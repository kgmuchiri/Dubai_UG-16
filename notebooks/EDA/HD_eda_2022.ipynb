{
 "cells": [
  {
   "cell_type": "code",
   "execution_count": 24,
   "metadata": {},
   "outputs": [],
   "source": [
    "import sklearn\n",
    "import numpy as np\n",
    "import pandas as pd\n",
    "import os\n",
    "import tarfile\n",
    "import urllib\n",
    "# To plot pretty figures\n",
    "%matplotlib inline\n",
    "import matplotlib as mpl\n",
    "import matplotlib.pyplot as plt\n",
    "import urllib.request\n",
    "import warnings \n",
    "warnings.filterwarnings('ignore')\n",
    "from sklearn.model_selection import train_test_split\n",
    "from imblearn.under_sampling import RandomUnderSampler\n",
    "import seaborn as sb\n",
    "from itertools import product\n",
    "import scipy.stats as stats\n",
    "from sklearn.feature_selection import SelectKBest\n",
    "from sklearn.feature_selection import chi2"
   ]
  },
  {
   "cell_type": "code",
   "execution_count": 25,
   "metadata": {},
   "outputs": [],
   "source": [
    "df=pd.read_csv('../../data/dataset/original_datasets/heart_2022_no_nans.csv')"
   ]
  },
  {
   "cell_type": "code",
   "execution_count": 26,
   "metadata": {},
   "outputs": [
    {
     "name": "stdout",
     "output_type": "stream",
     "text": [
      "<class 'pandas.core.frame.DataFrame'>\n",
      "RangeIndex: 246022 entries, 0 to 246021\n",
      "Data columns (total 40 columns):\n",
      " #   Column                     Non-Null Count   Dtype  \n",
      "---  ------                     --------------   -----  \n",
      " 0   State                      246022 non-null  object \n",
      " 1   Sex                        246022 non-null  object \n",
      " 2   GeneralHealth              246022 non-null  object \n",
      " 3   PhysicalHealthDays         246022 non-null  float64\n",
      " 4   MentalHealthDays           246022 non-null  float64\n",
      " 5   LastCheckupTime            246022 non-null  object \n",
      " 6   PhysicalActivities         246022 non-null  object \n",
      " 7   SleepHours                 246022 non-null  float64\n",
      " 8   RemovedTeeth               246022 non-null  object \n",
      " 9   HadHeartAttack             246022 non-null  object \n",
      " 10  HadAngina                  246022 non-null  object \n",
      " 11  HadStroke                  246022 non-null  object \n",
      " 12  HadAsthma                  246022 non-null  object \n",
      " 13  HadSkinCancer              246022 non-null  object \n",
      " 14  HadCOPD                    246022 non-null  object \n",
      " 15  HadDepressiveDisorder      246022 non-null  object \n",
      " 16  HadKidneyDisease           246022 non-null  object \n",
      " 17  HadArthritis               246022 non-null  object \n",
      " 18  HadDiabetes                246022 non-null  object \n",
      " 19  DeafOrHardOfHearing        246022 non-null  object \n",
      " 20  BlindOrVisionDifficulty    246022 non-null  object \n",
      " 21  DifficultyConcentrating    246022 non-null  object \n",
      " 22  DifficultyWalking          246022 non-null  object \n",
      " 23  DifficultyDressingBathing  246022 non-null  object \n",
      " 24  DifficultyErrands          246022 non-null  object \n",
      " 25  SmokerStatus               246022 non-null  object \n",
      " 26  ECigaretteUsage            246022 non-null  object \n",
      " 27  ChestScan                  246022 non-null  object \n",
      " 28  RaceEthnicityCategory      246022 non-null  object \n",
      " 29  AgeCategory                246022 non-null  object \n",
      " 30  HeightInMeters             246022 non-null  float64\n",
      " 31  WeightInKilograms          246022 non-null  float64\n",
      " 32  BMI                        246022 non-null  float64\n",
      " 33  AlcoholDrinkers            246022 non-null  object \n",
      " 34  HIVTesting                 246022 non-null  object \n",
      " 35  FluVaxLast12               246022 non-null  object \n",
      " 36  PneumoVaxEver              246022 non-null  object \n",
      " 37  TetanusLast10Tdap          246022 non-null  object \n",
      " 38  HighRiskLastYear           246022 non-null  object \n",
      " 39  CovidPos                   246022 non-null  object \n",
      "dtypes: float64(6), object(34)\n",
      "memory usage: 75.1+ MB\n"
     ]
    }
   ],
   "source": [
    "df.info()"
   ]
  },
  {
   "cell_type": "code",
   "execution_count": 27,
   "metadata": {},
   "outputs": [
    {
     "name": "stdout",
     "output_type": "stream",
     "text": [
      "Null values:\n",
      " State                        0\n",
      "Sex                          0\n",
      "GeneralHealth                0\n",
      "PhysicalHealthDays           0\n",
      "MentalHealthDays             0\n",
      "LastCheckupTime              0\n",
      "PhysicalActivities           0\n",
      "SleepHours                   0\n",
      "RemovedTeeth                 0\n",
      "HadHeartAttack               0\n",
      "HadAngina                    0\n",
      "HadStroke                    0\n",
      "HadAsthma                    0\n",
      "HadSkinCancer                0\n",
      "HadCOPD                      0\n",
      "HadDepressiveDisorder        0\n",
      "HadKidneyDisease             0\n",
      "HadArthritis                 0\n",
      "HadDiabetes                  0\n",
      "DeafOrHardOfHearing          0\n",
      "BlindOrVisionDifficulty      0\n",
      "DifficultyConcentrating      0\n",
      "DifficultyWalking            0\n",
      "DifficultyDressingBathing    0\n",
      "DifficultyErrands            0\n",
      "SmokerStatus                 0\n",
      "ECigaretteUsage              0\n",
      "ChestScan                    0\n",
      "RaceEthnicityCategory        0\n",
      "AgeCategory                  0\n",
      "HeightInMeters               0\n",
      "WeightInKilograms            0\n",
      "BMI                          0\n",
      "AlcoholDrinkers              0\n",
      "HIVTesting                   0\n",
      "FluVaxLast12                 0\n",
      "PneumoVaxEver                0\n",
      "TetanusLast10Tdap            0\n",
      "HighRiskLastYear             0\n",
      "CovidPos                     0\n",
      "dtype: int64\n",
      "\n",
      "\n",
      "Duplicates:  9\n"
     ]
    }
   ],
   "source": [
    "isNull = df.isna().sum()\n",
    "duplicates_no = df.duplicated().sum()\n",
    "print('Null values:\\n',isNull)\n",
    "print('\\n\\nDuplicates: ', duplicates_no)\n",
    "df_shape = df.shape"
   ]
  },
  {
   "cell_type": "code",
   "execution_count": 28,
   "metadata": {},
   "outputs": [
    {
     "name": "stdout",
     "output_type": "stream",
     "text": [
      "Dataframe shape before: (246022, 40)\n",
      "\n",
      "Dataframe shape after: (246013, 40)\n"
     ]
    }
   ],
   "source": [
    "df.drop_duplicates(inplace=True)\n",
    "print('Dataframe shape before:', df_shape)\n",
    "print('\\nDataframe shape after:', df.shape)"
   ]
  },
  {
   "cell_type": "code",
   "execution_count": 29,
   "metadata": {},
   "outputs": [
    {
     "name": "stdout",
     "output_type": "stream",
     "text": [
      "Heart Disease Count: \n",
      " HadHeartAttack\n",
      "No     232578\n",
      "Yes     13435\n",
      "Name: count, dtype: int64 \n",
      "\n"
     ]
    },
    {
     "data": {
      "image/png": "[encoded data removed]",
      "text/plain": [
       "<Figure size 640x480 with 1 Axes>"
      ]
     },
     "metadata": {},
     "output_type": "display_data"
    }
   ],
   "source": [
    "\n",
    "counts = df['HadHeartAttack'].value_counts()\n",
    "print ('Heart Disease Count: \\n' , counts, '\\n')\n",
    "plt.pie(counts, labels=['No Heart Disease', 'Heart Disease'], autopct='%1.1f%%', startangle=140)\n",
    "plt.axis('equal')\n",
    "plt.title('Distribution of Heart Disease')\n",
    "plt.show()"
   ]
  },
  {
   "cell_type": "code",
   "execution_count": 30,
   "metadata": {},
   "outputs": [
    {
     "data": {
      "text/plain": [
       "HadDiabetes\n",
       "No                                         204827\n",
       "Yes                                         33811\n",
       "No, pre-diabetes or borderline diabetes      5392\n",
       "Yes, but only during pregnancy (female)      1983\n",
       "Name: count, dtype: int64"
      ]
     },
     "execution_count": 30,
     "metadata": {},
     "output_type": "execute_result"
    }
   ],
   "source": [
    "df['HadDiabetes'].value_counts()"
   ]
  },
  {
   "cell_type": "code",
   "execution_count": 31,
   "metadata": {},
   "outputs": [],
   "source": [
    "df = df[df['HadDiabetes'].isin(['Yes', 'No'])]\n",
    "df=df.drop(\"State\", axis=1)"
   ]
  },
  {
   "cell_type": "code",
   "execution_count": 32,
   "metadata": {},
   "outputs": [],
   "source": [
    "# Pop the column and store it\n",
    "column_ha = df.pop('HadHeartAttack')\n",
    "\n",
    "# Insert the column at the end\n",
    "df['HadHeartAttack'] = column_ha"
   ]
  },
  {
   "cell_type": "code",
   "execution_count": 33,
   "metadata": {},
   "outputs": [
    {
     "name": "stdout",
     "output_type": "stream",
     "text": [
      "Column: Sex\n",
      "Mapping: {'Female': 0, 'Male': 1}\n",
      "\n",
      "Column: GeneralHealth\n",
      "Mapping: {'Excellent': 0, 'Fair': 1, 'Good': 2, 'Poor': 3, 'Very good': 4}\n",
      "\n",
      "Column: LastCheckupTime\n",
      "Mapping: {'5 or more years ago': 0, 'Within past 2 years (1 year but less than 2 years ago)': 1, 'Within past 5 years (2 years but less than 5 years ago)': 2, 'Within past year (anytime less than 12 months ago)': 3}\n",
      "\n",
      "Column: PhysicalActivities\n",
      "Mapping: {'No': 0, 'Yes': 1}\n",
      "\n",
      "Column: RemovedTeeth\n",
      "Mapping: {'1 to 5': 0, '6 or more, but not all': 1, 'All': 2, 'None of them': 3}\n",
      "\n",
      "Column: HadAngina\n",
      "Mapping: {'No': 0, 'Yes': 1}\n",
      "\n",
      "Column: HadStroke\n",
      "Mapping: {'No': 0, 'Yes': 1}\n",
      "\n",
      "Column: HadAsthma\n",
      "Mapping: {'No': 0, 'Yes': 1}\n",
      "\n",
      "Column: HadSkinCancer\n",
      "Mapping: {'No': 0, 'Yes': 1}\n",
      "\n",
      "Column: HadCOPD\n",
      "Mapping: {'No': 0, 'Yes': 1}\n",
      "\n",
      "Column: HadDepressiveDisorder\n",
      "Mapping: {'No': 0, 'Yes': 1}\n",
      "\n",
      "Column: HadKidneyDisease\n",
      "Mapping: {'No': 0, 'Yes': 1}\n",
      "\n",
      "Column: HadArthritis\n",
      "Mapping: {'No': 0, 'Yes': 1}\n",
      "\n",
      "Column: HadDiabetes\n",
      "Mapping: {'No': 0, 'Yes': 1}\n",
      "\n",
      "Column: DeafOrHardOfHearing\n",
      "Mapping: {'No': 0, 'Yes': 1}\n",
      "\n",
      "Column: BlindOrVisionDifficulty\n",
      "Mapping: {'No': 0, 'Yes': 1}\n",
      "\n",
      "Column: DifficultyConcentrating\n",
      "Mapping: {'No': 0, 'Yes': 1}\n",
      "\n",
      "Column: DifficultyWalking\n",
      "Mapping: {'No': 0, 'Yes': 1}\n",
      "\n",
      "Column: DifficultyDressingBathing\n",
      "Mapping: {'No': 0, 'Yes': 1}\n",
      "\n",
      "Column: DifficultyErrands\n",
      "Mapping: {'No': 0, 'Yes': 1}\n",
      "\n",
      "Column: SmokerStatus\n",
      "Mapping: {'Current smoker - now smokes every day': 0, 'Current smoker - now smokes some days': 1, 'Former smoker': 2, 'Never smoked': 3}\n",
      "\n",
      "Column: ECigaretteUsage\n",
      "Mapping: {'Never used e-cigarettes in my entire life': 0, 'Not at all (right now)': 1, 'Use them every day': 2, 'Use them some days': 3}\n",
      "\n",
      "Column: ChestScan\n",
      "Mapping: {'No': 0, 'Yes': 1}\n",
      "\n",
      "Column: RaceEthnicityCategory\n",
      "Mapping: {'Black only, Non-Hispanic': 0, 'Hispanic': 1, 'Multiracial, Non-Hispanic': 2, 'Other race only, Non-Hispanic': 3, 'White only, Non-Hispanic': 4}\n",
      "\n",
      "Column: AgeCategory\n",
      "Mapping: {'Age 18 to 24': 0, 'Age 25 to 29': 1, 'Age 30 to 34': 2, 'Age 35 to 39': 3, 'Age 40 to 44': 4, 'Age 45 to 49': 5, 'Age 50 to 54': 6, 'Age 55 to 59': 7, 'Age 60 to 64': 8, 'Age 65 to 69': 9, 'Age 70 to 74': 10, 'Age 75 to 79': 11, 'Age 80 or older': 12}\n",
      "\n",
      "Column: AlcoholDrinkers\n",
      "Mapping: {'No': 0, 'Yes': 1}\n",
      "\n",
      "Column: HIVTesting\n",
      "Mapping: {'No': 0, 'Yes': 1}\n",
      "\n",
      "Column: FluVaxLast12\n",
      "Mapping: {'No': 0, 'Yes': 1}\n",
      "\n",
      "Column: PneumoVaxEver\n",
      "Mapping: {'No': 0, 'Yes': 1}\n",
      "\n",
      "Column: TetanusLast10Tdap\n",
      "Mapping: {'No, did not receive any tetanus shot in the past 10 years': 0, 'Yes, received Tdap': 1, 'Yes, received tetanus shot but not sure what type': 2, 'Yes, received tetanus shot, but not Tdap': 3}\n",
      "\n",
      "Column: HighRiskLastYear\n",
      "Mapping: {'No': 0, 'Yes': 1}\n",
      "\n",
      "Column: CovidPos\n",
      "Mapping: {'No': 0, 'Tested positive using home test without a health professional': 1, 'Yes': 2}\n",
      "\n",
      "Column: HadHeartAttack\n",
      "Mapping: {'No': 0, 'Yes': 1}\n",
      "\n"
     ]
    }
   ],
   "source": [
    "from sklearn.preprocessing import LabelEncoder as LE\n",
    "encoder=LE()\n",
    "\n",
    "df_num = df.copy()\n",
    "\n",
    "for col in df_num.columns:\n",
    "    if df_num[col].dtype == 'object':\n",
    "        df_num[col] = encoder.fit_transform(df_num[col])\n",
    "        # Print the mapping between original categories and assigned numerical values\n",
    "        print(f\"Column: {col}\")\n",
    "        print(f\"Mapping: {dict(zip(encoder.classes_, encoder.transform(encoder.classes_)))}\\n\")\n"
   ]
  },
  {
   "cell_type": "code",
   "execution_count": 20,
   "metadata": {},
   "outputs": [],
   "source": []
  },
  {
   "cell_type": "code",
   "execution_count": 34,
   "metadata": {},
   "outputs": [
    {
     "name": "stdout",
     "output_type": "stream",
     "text": [
      "<class 'pandas.core.frame.DataFrame'>\n",
      "Index: 238638 entries, 0 to 246021\n",
      "Data columns (total 39 columns):\n",
      " #   Column                     Non-Null Count   Dtype  \n",
      "---  ------                     --------------   -----  \n",
      " 0   Sex                        238638 non-null  object \n",
      " 1   GeneralHealth              238638 non-null  object \n",
      " 2   PhysicalHealthDays         238638 non-null  float64\n",
      " 3   MentalHealthDays           238638 non-null  float64\n",
      " 4   LastCheckupTime            238638 non-null  object \n",
      " 5   PhysicalActivities         238638 non-null  object \n",
      " 6   SleepHours                 238638 non-null  float64\n",
      " 7   RemovedTeeth               238638 non-null  object \n",
      " 8   HadAngina                  238638 non-null  object \n",
      " 9   HadStroke                  238638 non-null  object \n",
      " 10  HadAsthma                  238638 non-null  object \n",
      " 11  HadSkinCancer              238638 non-null  object \n",
      " 12  HadCOPD                    238638 non-null  object \n",
      " 13  HadDepressiveDisorder      238638 non-null  object \n",
      " 14  HadKidneyDisease           238638 non-null  object \n",
      " 15  HadArthritis               238638 non-null  object \n",
      " 16  HadDiabetes                238638 non-null  object \n",
      " 17  DeafOrHardOfHearing        238638 non-null  object \n",
      " 18  BlindOrVisionDifficulty    238638 non-null  object \n",
      " 19  DifficultyConcentrating    238638 non-null  object \n",
      " 20  DifficultyWalking          238638 non-null  object \n",
      " 21  DifficultyDressingBathing  238638 non-null  object \n",
      " 22  DifficultyErrands          238638 non-null  object \n",
      " 23  SmokerStatus               238638 non-null  object \n",
      " 24  ECigaretteUsage            238638 non-null  object \n",
      " 25  ChestScan                  238638 non-null  object \n",
      " 26  RaceEthnicityCategory      238638 non-null  object \n",
      " 27  AgeCategory                238638 non-null  object \n",
      " 28  HeightInMeters             238638 non-null  float64\n",
      " 29  WeightInKilograms          238638 non-null  float64\n",
      " 30  BMI                        238638 non-null  float64\n",
      " 31  AlcoholDrinkers            238638 non-null  object \n",
      " 32  HIVTesting                 238638 non-null  object \n",
      " 33  FluVaxLast12               238638 non-null  object \n",
      " 34  PneumoVaxEver              238638 non-null  object \n",
      " 35  TetanusLast10Tdap          238638 non-null  object \n",
      " 36  HighRiskLastYear           238638 non-null  object \n",
      " 37  CovidPos                   238638 non-null  object \n",
      " 38  HadHeartAttack             238638 non-null  object \n",
      "dtypes: float64(6), object(33)\n",
      "memory usage: 72.8+ MB\n"
     ]
    }
   ],
   "source": [
    "df.info()"
   ]
  },
  {
   "cell_type": "code",
   "execution_count": 35,
   "metadata": {},
   "outputs": [
    {
     "name": "stdout",
     "output_type": "stream",
     "text": [
      "              Features         Score\n",
      "2   PhysicalHealthDays  73125.879675\n",
      "8            HadAngina  44852.302185\n",
      "27         AgeCategory  12891.857088\n",
      "9            HadStroke   7240.275920\n",
      "20   DifficultyWalking   5227.016941\n",
      "16         HadDiabetes   4551.042937\n",
      "12             HadCOPD   3915.731967\n",
      "25           ChestScan   3886.862558\n",
      "14    HadKidneyDisease   2794.126310\n",
      "3     MentalHealthDays   2499.852649\n"
     ]
    }
   ],
   "source": [
    "X = df_num.iloc[:,0:37]\n",
    "y = df_num.iloc[:,-1]\n",
    "\n",
    "bestfeatures = SelectKBest(score_func=chi2, k = 10)\n",
    "fit = bestfeatures.fit(X,y)\n",
    "dfscores = pd.DataFrame(fit.scores_)\n",
    "dfcolumns = pd.DataFrame(X.columns)\n",
    "featureScores = pd.concat([dfcolumns,dfscores],axis=1)\n",
    "featureScores.columns = ['Features','Score']  #naming the dataframe columns\n",
    "print(featureScores.nlargest(10,'Score')) "
   ]
  },
  {
   "cell_type": "code",
   "execution_count": 39,
   "metadata": {},
   "outputs": [
    {
     "name": "stdout",
     "output_type": "stream",
     "text": [
      "0\n",
      "                     Features         Score\n",
      "2          PhysicalHealthDays  73125.879675\n",
      "8                   HadAngina  44852.302185\n",
      "27                AgeCategory  12891.857088\n",
      "9                   HadStroke   7240.275920\n",
      "20          DifficultyWalking   5227.016941\n",
      "16                HadDiabetes   4551.042937\n",
      "12                    HadCOPD   3915.731967\n",
      "25                  ChestScan   3886.862558\n",
      "14           HadKidneyDisease   2794.126310\n",
      "3            MentalHealthDays   2499.852649\n",
      "15               HadArthritis   2166.585146\n",
      "34              PneumoVaxEver   2087.886000\n",
      "17        DeafOrHardOfHearing   2074.898476\n",
      "29          WeightInKilograms   1943.500071\n",
      "22          DifficultyErrands   1798.375378\n",
      "21  DifficultyDressingBathing   1578.544268\n",
      "7                RemovedTeeth   1316.408555\n",
      "18    BlindOrVisionDifficulty   1238.863266\n",
      "0                         Sex    642.879563\n",
      "31            AlcoholDrinkers    596.695983\n",
      "1\n",
      "                     Features         Score\n",
      "2          PhysicalHealthDays  73125.879675\n",
      "8                   HadAngina  44852.302185\n",
      "27                AgeCategory  12891.857088\n",
      "9                   HadStroke   7240.275920\n",
      "20          DifficultyWalking   5227.016941\n",
      "16                HadDiabetes   4551.042937\n",
      "12                    HadCOPD   3915.731967\n",
      "25                  ChestScan   3886.862558\n",
      "14           HadKidneyDisease   2794.126310\n",
      "3            MentalHealthDays   2499.852649\n",
      "15               HadArthritis   2166.585146\n",
      "34              PneumoVaxEver   2087.886000\n",
      "17        DeafOrHardOfHearing   2074.898476\n",
      "29          WeightInKilograms   1943.500071\n",
      "22          DifficultyErrands   1798.375378\n",
      "21  DifficultyDressingBathing   1578.544268\n",
      "7                RemovedTeeth   1316.408555\n",
      "18    BlindOrVisionDifficulty   1238.863266\n",
      "0                         Sex    642.879563\n",
      "31            AlcoholDrinkers    596.695983\n",
      "Top 2 features for class 0: ['PhysicalHealthDays', 'HadAngina', 'AgeCategory', 'HadStroke']\n",
      "Top 2 features for class 1: ['PhysicalHealthDays', 'HadAngina', 'AgeCategory', 'HadStroke']\n"
     ]
    }
   ],
   "source": [
    "top_features_per_class = {}\n",
    "\n",
    "for class_label in y.unique():\n",
    "    # Create a binary target variable for the current class\n",
    "    y_binary = (y == class_label).astype(int)\n",
    "    print(class_label)\n",
    "\n",
    "    # Apply SelectKBest with k=2\n",
    "    bestfeatures = SelectKBest(score_func=chi2, k=10)\n",
    "    fit = bestfeatures.fit(X, y_binary)\n",
    "\n",
    "    # Get feature scores and names\n",
    "    dfscores = pd.DataFrame(fit.scores_)\n",
    "    dfcolumns = pd.DataFrame(X.columns)\n",
    "    featureScores = pd.concat([dfcolumns, dfscores], axis=1)\n",
    "    featureScores.columns = ['Features', 'Score']\n",
    "\n",
    "    print(featureScores.nlargest(20,'Score')) \n",
    "\n",
    "    # Store the top 2 features for the current class\n",
    "    top_features_per_class[class_label] = featureScores.nlargest(4, 'Score')['Features'].tolist()\n",
    "\n",
    "# Print the results\n",
    "for class_label, features in top_features_per_class.items():\n",
    "    print(f\"Top 2 features for class {class_label}: {features}\")"
   ]
  }
 ],
 "metadata": {
  "kernelspec": {
   "display_name": "base",
   "language": "python",
   "name": "python3"
  },
  "language_info": {
   "codemirror_mode": {
    "name": "ipython",
    "version": 3
   },
   "file_extension": ".py",
   "mimetype": "text/x-python",
   "name": "python",
   "nbconvert_exporter": "python",
   "pygments_lexer": "ipython3",
   "version": "3.12.4"
  }
 },
 "nbformat": 4,
 "nbformat_minor": 2
}
