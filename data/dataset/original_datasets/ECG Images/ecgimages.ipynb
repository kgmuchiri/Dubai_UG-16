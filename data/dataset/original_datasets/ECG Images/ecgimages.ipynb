{
 "cells": [
  {
   "cell_type": "markdown",
   "metadata": {},
   "source": [
    "# ECG Images Preprocessing\n",
    "Taking a single patients ECG image and seperates them into 12 images, one for each lead\n",
    "retrieved from"
   ]
  },
  {
   "cell_type": "code",
   "execution_count": 21,
   "metadata": {},
   "outputs": [],
   "source": [
    "import os\n",
    "import re\n",
    "from skimage.filters import threshold_otsu, gaussian\n",
    "from skimage import measure, color, morphology, filters,io\n",
    "from skimage.transform import resize\n",
    "from skimage.io import imread, imsave\n",
    "import matplotlib.pyplot as plt\n",
    "import numpy as np\n",
    "import pandas as pd\n",
    "from sklearn.model_selection import train_test_split\n",
    "from sklearn.preprocessing import LabelEncoder"
   ]
  },
  {
   "cell_type": "markdown",
   "metadata": {},
   "source": [
    "## Extracting and Preprocessing Images\n",
    "    \n",
    "Extracts individual leads from an ECG image, preprocesses them to remove noise \n",
    "and keep only the ECG signal, and saves the smaller resulting images\n",
    "\n",
    "Arguments:\n",
    "  image_file: Name of the input image file.\n",
    "  parent_folder: Path to the folder containing the image file.\n",
    "  output_folder: Path to the folder where the processed lead images will be saved."
   ]
  },
  {
   "cell_type": "code",
   "execution_count": 22,
   "metadata": {},
   "outputs": [],
   "source": [
    "def extract_and_preprocess_leads(image_file, parent_folder, output_folder):\n",
    "    # Read the image\n",
    "    image = imread(os.path.join(parent_folder, image_file))\n",
    "\n",
    "    # Dividing the ECG leads with offset\n",
    "    start_offset = 30 \n",
    "\n",
    "    Lead_1 = image[300:600, 150 + start_offset:643]\n",
    "    Lead_2 = image[300:600, 646 + start_offset:1135]\n",
    "    Lead_3 = image[300:600, 1140 + start_offset:1626]\n",
    "    Lead_4 = image[300:600, 1630 + start_offset:2125]\n",
    "    Lead_5 = image[600:900, 150 + start_offset:643]\n",
    "    Lead_6 = image[600:900, 646 + start_offset:1135]\n",
    "    Lead_7 = image[600:900, 1140 + start_offset:1626]\n",
    "    Lead_8 = image[600:900, 1630 + start_offset:2125]\n",
    "    Lead_9 = image[900:1200, 150 + start_offset:643]\n",
    "    Lead_10 = image[900:1200, 646 + start_offset:1135]\n",
    "    Lead_11 = image[900:1200, 1140 + start_offset:1626]\n",
    "    Lead_12 = image[900:1200, 1630 + start_offset:2125]\n",
    "\n",
    "    Leads=[Lead_1,Lead_2,Lead_3,Lead_4,Lead_5,Lead_6,Lead_7,Lead_8,Lead_9,Lead_10,Lead_11,Lead_12]\n",
    "\n",
    "     # Extract the original filename without extension\n",
    "    base_filename = os.path.splitext(image_file)[0]\n",
    "\n",
    "    # Extract the class label from the base filename\n",
    "    class_label = re.match(r'([^\\(]+)', base_filename).group(1) \n",
    "        # Create class subfolders within the output folder if they don't exist\n",
    "\n",
    "    folder_name = re.sub('.jpg', '', image_file)\n",
    "    output_path = os.path.join(output_folder, folder_name)\n",
    "\n",
    "    class_output_folder = os.path.join(output_folder, class_label)\n",
    "    os.makedirs(class_output_folder, exist_ok=True)\n",
    "\n",
    "    for x, lead_img in enumerate(Leads):\n",
    "        # Convert to grayscale\n",
    "        grayscale = color.rgb2gray(lead_img)\n",
    "        # Smooth the image\n",
    "        blurred_image = gaussian(grayscale, sigma=0.7)\n",
    "        # Thresholding\n",
    "        global_thresh = filters.threshold_otsu(blurred_image)\n",
    "        binary_global = blurred_image < global_thresh \n",
    "        # Morphological Operations (Connect broken segments)\n",
    "        binary_global = morphology.closing(binary_global, morphology.square(3)) \n",
    "        # Resize\n",
    "        binary_global = resize(binary_global, (180,230))\n",
    "       \n",
    "        # Find contours to isolate the ECG signal\n",
    "        contours = measure.find_contours(binary_global, 0.8)\n",
    "        contours_shape = sorted([x.shape for x in contours])[::-1][0:1]\n",
    "        # Create a blank image to draw the extracted signal\n",
    "        extracted_signal = np.zeros_like(binary_global)\n",
    "        for contour in contours:\n",
    "            if contour.shape in contours_shape:\n",
    "                # Draw the contour on the blank image\n",
    "                for point in contour:\n",
    "                    x_coord, y_coord = int(point[1]), int(point[0])\n",
    "                    extracted_signal[y_coord, x_coord] = 1  # Set pixel to white\n",
    "        \n",
    "\n",
    "        # Create the output filename with the desired convention\n",
    "        output_filename = f\"{base_filename}_lead_{x+1}.png\"  \n",
    "        output_path = os.path.join(class_output_folder, output_filename)  # Save directly to output_folder\n",
    "        # Save the extracted signal image\n",
    "        imsave(output_path, extracted_signal)\n"
   ]
  },
  {
   "cell_type": "code",
   "execution_count": 23,
   "metadata": {},
   "outputs": [
    {
     "data": {
      "text/plain": [
       "\"\\ninput_folder = '.'  # Input folder\\noutput_folder = './processed'  # Desired output folder\\n\\n# Iterate over each class folder and extract and preprocess the leads\\n# Uncomment to run\\n\\nfor class_label in ['AB', 'HMI', 'MI', 'Normal']:\\n    class_path = os.path.join(input_folder, class_label)\\n    for filename in os.listdir(class_path):\\n        if filename.endswith(('.png', '.jpg', '.jpeg')):\\n            extract_and_preprocess_leads(filename, class_path, output_folder)\\n\\n\""
      ]
     },
     "execution_count": 23,
     "metadata": {},
     "output_type": "execute_result"
    }
   ],
   "source": [
    "'''\n",
    "input_folder = '.'  # Input folder\n",
    "output_folder = './processed'  # Desired output folder\n",
    "\n",
    "# Iterate over each class folder and extract and preprocess the leads\n",
    "# Uncomment to run\n",
    "\n",
    "for class_label in ['AB', 'HMI', 'MI', 'Normal']:\n",
    "    class_path = os.path.join(input_folder, class_label)\n",
    "    for filename in os.listdir(class_path):\n",
    "        if filename.endswith(('.png', '.jpg', '.jpeg')):\n",
    "            extract_and_preprocess_leads(filename, class_path, output_folder)\n",
    "\n",
    "'''"
   ]
  },
  {
   "cell_type": "code",
   "execution_count": 25,
   "metadata": {},
   "outputs": [
    {
     "name": "stdout",
     "output_type": "stream",
     "text": [
      "0: HB\n",
      "1: MI\n",
      "2: Normal\n",
      "3: PMI\n"
     ]
    }
   ],
   "source": [
    "def create_datasets(folder):\n",
    "    image_data = []\n",
    "    labels = []\n",
    "    for class_label in ['HB', 'MI', 'PMI', 'Normal']:\n",
    "        class_folder = os.path.join(folder, class_label)\n",
    "        for filename in os.listdir(class_folder):\n",
    "            if filename.endswith('.png'):\n",
    "                # Load image and convert to grayscale\n",
    "                img = imread(os.path.join(class_folder, filename), as_gray=True)  \n",
    "                image_data.append(img)\n",
    "                labels.append(class_label)\n",
    "    # Encode labels\n",
    "    label_encoder = LabelEncoder()\n",
    "    encoded_labels = label_encoder.fit_transform(labels)\n",
    "\n",
    "    # Print label encoding\n",
    "    for i, label in enumerate(label_encoder.classes_):\n",
    "        print(f\"{i}: {label}\")\n",
    "\n",
    "    return np.array(image_data), encoded_labels\n",
    "\n",
    "imagefolder= '../../processed_datasets/ecg_images'\n",
    "# Create and save the datasets\n",
    "image_data, labels = create_datasets(imagefolder)"
   ]
  },
  {
   "cell_type": "code",
   "execution_count": 26,
   "metadata": {},
   "outputs": [],
   "source": [
    "np.save('image_data.npy', image_data)\n",
    "np.save('labels.npy', labels) "
   ]
  },
  {
   "cell_type": "code",
   "execution_count": 27,
   "metadata": {},
   "outputs": [
    {
     "data": {
      "text/plain": [
       "(11136, 180, 230)"
      ]
     },
     "execution_count": 27,
     "metadata": {},
     "output_type": "execute_result"
    }
   ],
   "source": [
    "image_data.shape"
   ]
  },
  {
   "cell_type": "code",
   "execution_count": 28,
   "metadata": {},
   "outputs": [
    {
     "data": {
      "text/plain": [
       "(11136,)"
      ]
     },
     "execution_count": 28,
     "metadata": {},
     "output_type": "execute_result"
    }
   ],
   "source": [
    "labels.shape"
   ]
  },
  {
   "cell_type": "code",
   "execution_count": 29,
   "metadata": {},
   "outputs": [
    {
     "name": "stdout",
     "output_type": "stream",
     "text": [
      "Unique labels: [0 1 2 3]\n",
      "Counts: [2796 2868 3408 2064]\n"
     ]
    }
   ],
   "source": [
    "unique_labels, counts = np.unique(labels, return_counts=True)\n",
    "print(\"Unique labels:\", unique_labels)\n",
    "print(\"Counts:\", counts)"
   ]
  },
  {
   "cell_type": "code",
   "execution_count": 30,
   "metadata": {},
   "outputs": [],
   "source": [
    "# Split data into training and testing sets\n",
    "X_train, X_test, y_train, y_test = train_test_split(\n",
    "    image_data, labels, test_size=0.2, random_state=42\n",
    ")\n",
    "\n",
    "X_train = X_train/255.0\n",
    "\n",
    "# Save the training and testing datasets\n",
    "np.save('X_train.npy', X_train)\n",
    "np.save('X_test.npy', X_test)\n",
    "np.save('y_train.npy', y_train)\n",
    "np.save('y_test.npy', y_test)"
   ]
  },
  {
   "cell_type": "code",
   "execution_count": 31,
   "metadata": {},
   "outputs": [
    {
     "name": "stdout",
     "output_type": "stream",
     "text": [
      "Min pixel value: 0\n",
      "Max pixel value: 255\n"
     ]
    }
   ],
   "source": [
    "print(\"Min pixel value:\", image_data.min())\n",
    "print(\"Max pixel value:\", image_data.max())\n"
   ]
  },
  {
   "cell_type": "code",
   "execution_count": 33,
   "metadata": {},
   "outputs": [
    {
     "data": {
      "text/plain": [
       "dtype('uint8')"
      ]
     },
     "execution_count": 33,
     "metadata": {},
     "output_type": "execute_result"
    }
   ],
   "source": [
    "X_train.dtype"
   ]
  },
  {
   "cell_type": "code",
   "execution_count": 4,
   "metadata": {},
   "outputs": [
    {
     "data": {
      "text/plain": [
       "'\\ndef extract_and_stitch_ecg_leads(image_file, parent_folder, output_folder):\\n    # Read the image\\n    image = io.imread(os.path.join(parent_folder, image_file))\\n\\n    # Dividing the ECG leads with offset\\n    start_offset = 30 \\n\\n    Lead_1 = image[300:600, 150 + start_offset:643]\\n    Lead_2 = image[300:600, 646 + start_offset:1135]\\n    Lead_3 = image[300:600, 1140 + start_offset:1626]\\n    Lead_4 = image[300:600, 1630 + start_offset:2125]\\n    Lead_5 = image[600:900, 150 + start_offset:643]\\n    Lead_6 = image[600:900, 646 + start_offset:1135]\\n    Lead_7 = image[600:900, 1140 + start_offset:1626]\\n    Lead_8 = image[600:900, 1630 + start_offset:2125]\\n    Lead_9 = image[900:1200, 150 + start_offset:643]\\n    Lead_10 = image[900:1200, 646 + start_offset:1135]\\n    Lead_11 = image[900:1200, 1140 + start_offset:1626]\\n    Lead_12 = image[900:1200, 1630 + start_offset:2125]\\n\\n    Leads=[Lead_1,Lead_2,Lead_3,Lead_4,Lead_5,Lead_6,Lead_7,Lead_8,Lead_9,Lead_10,Lead_11,Lead_12]\\n\\n    processed_leads = []\\n    for lead_img in Leads:\\n        # Convert to grayscale\\n        grayscale = color.rgb2gray(lead_img)\\n        # Smooth the image\\n        blurred_image = filters.gaussian(grayscale, sigma=0.7)\\n        # Thresholding\\n        global_thresh = filters.threshold_otsu(blurred_image)\\n        binary_global = blurred_image < global_thresh \\n        # Morphological Operations (Connect broken segments)\\n        binary_global = morphology.closing(binary_global, morphology.square(3)) \\n        # Resize\\n        binary_global = resize(binary_global, (180,230))\\n\\n        # Find contours to isolate the ECG signal (optional, if needed)\\n        contours = measure.find_contours(binary_global, 0.8)\\n        contours_shape = sorted([x.shape for x in contours])[::-1][0:1]\\n        extracted_signal = np.zeros_like(binary_global)\\n        for contour in contours:\\n            if contour.shape in contours_shape:\\n                for point in contour:\\n                    x_coord, y_coord = int(point[1]), int(point[0])\\n                    extracted_signal[y_coord, x_coord] = 1 \\n\\n        processed_leads.append(extracted_signal)\\n\\n    # Stitch the leads together\\n    top_row = np.concatenate(processed_leads[:4], axis=1)  # Leads 1 to 4\\n    middle_row = np.concatenate(processed_leads[4:8], axis=1)  # Leads 5 to 8\\n    bottom_row = np.concatenate(processed_leads[8:], axis=1)  # Leads 9 to 12\\n    stitched_image = np.concatenate([top_row, middle_row, bottom_row], axis=0)\\n\\n    # Extract the original filename without extension\\n    base_filename = os.path.splitext(image_file)[0]\\n\\n    # Create the output filename \\n    output_filename = f\"{base_filename}_stitched.png\" \\n    output_path = os.path.join(output_folder, output_filename)  \\n    # Save the stitched image\\n    io.imsave(output_path, stitched_image)\\n\\n'"
      ]
     },
     "execution_count": 4,
     "metadata": {},
     "output_type": "execute_result"
    }
   ],
   "source": [
    "'''\n",
    "def extract_and_stitch_ecg_leads(image_file, parent_folder, output_folder):\n",
    "    # Read the image\n",
    "    image = io.imread(os.path.join(parent_folder, image_file))\n",
    "\n",
    "    # Dividing the ECG leads with offset\n",
    "    start_offset = 30 \n",
    "\n",
    "    Lead_1 = image[300:600, 150 + start_offset:643]\n",
    "    Lead_2 = image[300:600, 646 + start_offset:1135]\n",
    "    Lead_3 = image[300:600, 1140 + start_offset:1626]\n",
    "    Lead_4 = image[300:600, 1630 + start_offset:2125]\n",
    "    Lead_5 = image[600:900, 150 + start_offset:643]\n",
    "    Lead_6 = image[600:900, 646 + start_offset:1135]\n",
    "    Lead_7 = image[600:900, 1140 + start_offset:1626]\n",
    "    Lead_8 = image[600:900, 1630 + start_offset:2125]\n",
    "    Lead_9 = image[900:1200, 150 + start_offset:643]\n",
    "    Lead_10 = image[900:1200, 646 + start_offset:1135]\n",
    "    Lead_11 = image[900:1200, 1140 + start_offset:1626]\n",
    "    Lead_12 = image[900:1200, 1630 + start_offset:2125]\n",
    "\n",
    "    Leads=[Lead_1,Lead_2,Lead_3,Lead_4,Lead_5,Lead_6,Lead_7,Lead_8,Lead_9,Lead_10,Lead_11,Lead_12]\n",
    "\n",
    "    processed_leads = []\n",
    "    for lead_img in Leads:\n",
    "        # Convert to grayscale\n",
    "        grayscale = color.rgb2gray(lead_img)\n",
    "        # Smooth the image\n",
    "        blurred_image = filters.gaussian(grayscale, sigma=0.7)\n",
    "        # Thresholding\n",
    "        global_thresh = filters.threshold_otsu(blurred_image)\n",
    "        binary_global = blurred_image < global_thresh \n",
    "        # Morphological Operations (Connect broken segments)\n",
    "        binary_global = morphology.closing(binary_global, morphology.square(3)) \n",
    "        # Resize\n",
    "        binary_global = resize(binary_global, (180,230))\n",
    "\n",
    "        # Find contours to isolate the ECG signal (optional, if needed)\n",
    "        contours = measure.find_contours(binary_global, 0.8)\n",
    "        contours_shape = sorted([x.shape for x in contours])[::-1][0:1]\n",
    "        extracted_signal = np.zeros_like(binary_global)\n",
    "        for contour in contours:\n",
    "            if contour.shape in contours_shape:\n",
    "                for point in contour:\n",
    "                    x_coord, y_coord = int(point[1]), int(point[0])\n",
    "                    extracted_signal[y_coord, x_coord] = 1 \n",
    "\n",
    "        processed_leads.append(extracted_signal)\n",
    "\n",
    "    # Stitch the leads together\n",
    "    top_row = np.concatenate(processed_leads[:4], axis=1)  # Leads 1 to 4\n",
    "    middle_row = np.concatenate(processed_leads[4:8], axis=1)  # Leads 5 to 8\n",
    "    bottom_row = np.concatenate(processed_leads[8:], axis=1)  # Leads 9 to 12\n",
    "    stitched_image = np.concatenate([top_row, middle_row, bottom_row], axis=0)\n",
    "\n",
    "    # Extract the original filename without extension\n",
    "    base_filename = os.path.splitext(image_file)[0]\n",
    "\n",
    "    # Create the output filename \n",
    "    output_filename = f\"{base_filename}_stitched.png\" \n",
    "    output_path = os.path.join(output_folder, output_filename)  \n",
    "    # Save the stitched image\n",
    "    io.imsave(output_path, stitched_image)\n",
    "\n",
    "'''\n"
   ]
  },
  {
   "cell_type": "code",
   "execution_count": 5,
   "metadata": {},
   "outputs": [
    {
     "data": {
      "text/plain": [
       "\"\\nfor class_label in ['AB', 'HMI', 'MI', 'Normal']:\\n    class_path = os.path.join(input_folder, class_label)\\n    for filename in os.listdir(class_path):\\n        if filename.endswith(('.png', '.jpg', '.jpeg')):\\n            extract_and_stitch_ecg_leads(filename, class_path, output_folder)\\n\\n\""
      ]
     },
     "execution_count": 5,
     "metadata": {},
     "output_type": "execute_result"
    }
   ],
   "source": [
    "'''\n",
    "for class_label in ['AB', 'HMI', 'MI', 'Normal']:\n",
    "    class_path = os.path.join(input_folder, class_label)\n",
    "    for filename in os.listdir(class_path):\n",
    "        if filename.endswith(('.png', '.jpg', '.jpeg')):\n",
    "            extract_and_stitch_ecg_leads(filename, class_path, output_folder)\n",
    "\n",
    "'''"
   ]
  }
 ],
 "metadata": {
  "kernelspec": {
   "display_name": "base",
   "language": "python",
   "name": "python3"
  },
  "language_info": {
   "codemirror_mode": {
    "name": "ipython",
    "version": 3
   },
   "file_extension": ".py",
   "mimetype": "text/x-python",
   "name": "python",
   "nbconvert_exporter": "python",
   "pygments_lexer": "ipython3",
   "version": "3.12.4"
  }
 },
 "nbformat": 4,
 "nbformat_minor": 2
}
